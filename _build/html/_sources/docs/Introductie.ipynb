{
 "cells": [
  {
   "cell_type": "markdown",
   "id": "b5f775a8-e7b3-4b61-a0d5-d4443616d9f0",
   "metadata": {},
   "source": [
    "# Introductie"
   ]
  },
  {
   "cell_type": "markdown",
   "id": "9fe22ecd-ca73-4256-b147-f39456ef1994",
   "metadata": {},
   "source": [
    "De kwaliteit van ons dagelijks leven is essentieel, maar wat bepaalt die kwaliteit eigenlijk? In deze datastory onderzoeken we twee perspectieven die van invloed kunnen zijn op onze levenskwaliteit: groene ruimtes en economische welvaart.\n",
    "\n",
    "Voor stadsbewoners staat een dilemma centraal: moeten we meer groene ruimtes creëren om direct de levenskwaliteit te verbeteren, of moeten we juist meer focussen op economische welvaart, wat ook de levenskwaliteit kan verbeteren? In het laatste geval zouden we in plaats van het bevorderen van groene ruimtes, meer moeten investeren in infrastructuur.\n",
    "\n",
    "Deze datastory onderzoekt verschillende factoren die de levenskwaliteit in steden kunnen beïnvloeden, aan de hand van de dataset van Kaggle.com. We zullen specifiek de correlatie onderzoeken tussen groene gebieden en aspecten zoals luchtkwaliteit, mentale gezondheid en geluidsniveaus. Daarnaast kijken we naar de relatie tussen economische welvaart, mentale gezondheid en de kwaliteit van de gezondheidszorg."
   ]
  },
  {
   "cell_type": "markdown",
   "id": "f88ba646-7ffe-4d9d-a6e6-920efe615afd",
   "metadata": {},
   "source": [
    "[Klik hier om naar de data story te gaan](DataStory.ipynb)"
   ]
  },
  {
   "cell_type": "markdown",
   "id": "259bde3a-a140-4cd9-b904-d16f4cb069ff",
   "metadata": {},
   "source": [
    "<strong> Auteurs <strong>\n",
    "- Nienke Smit\n",
    "- Martijn Zuijderwijk\n",
    "- Senna Wiedeman\n",
    "- Preyas Baktawar"
   ]
  }
 ],
 "metadata": {
  "kernelspec": {
   "display_name": "Python 3 (ipykernel)",
   "language": "python",
   "name": "python3"
  },
  "language_info": {
   "codemirror_mode": {
    "name": "ipython",
    "version": 3
   },
   "file_extension": ".py",
   "mimetype": "text/x-python",
   "name": "python",
   "nbconvert_exporter": "python",
   "pygments_lexer": "ipython3",
   "version": "3.11.7"
  }
 },
 "nbformat": 4,
 "nbformat_minor": 5
}
