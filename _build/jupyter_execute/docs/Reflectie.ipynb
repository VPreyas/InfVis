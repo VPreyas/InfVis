{
 "cells": [
  {
   "cell_type": "markdown",
   "id": "df52eae1-2152-412d-b71d-8bcc469c8e70",
   "metadata": {},
   "source": [
    "# Reflectie"
   ]
  },
  {
   "cell_type": "markdown",
   "id": "25b005d0-3967-48c9-9ea1-07eae195b5a1",
   "metadata": {},
   "source": [
    "### Peer Feedback"
   ]
  },
  {
   "cell_type": "markdown",
   "id": "72456f75-9973-4f3c-a4c1-8c5d26406fb2",
   "metadata": {},
   "source": [
    "Op 24 juni hadden we een peer feedbacksessie met twee andere groepen en de TA. Tijdens deze bijeenkomst presenteerde elke groep hun werk, gevolgd door feedback op de datastories.\n",
    "\n",
    "Een belangrijk punt van kritiek was dat onze datastory twee perspectieven omvatte: ten eerste dat groene ruimtes de levenskwaliteit bevorderen en ten tweede dat economische welvaart dit doet. Deze twee perspectieven leken echter eerder elkaar aan te vullen dan een discussie op te wekken. Daarom hebben we besloten om het tweede perspectief te verbinden met infrastructuur. Door de keuze tussen groene ruimtes en infrastructuur te benadrukken, hopen we meer discussie uit te lokken over de ruimteverdeling in stedelijke gebieden."
   ]
  },
  {
   "cell_type": "markdown",
   "id": "02cfc77d-559e-4d8d-8c17-3d42a8d5973a",
   "metadata": {},
   "source": [
    "### Zelfreflectie"
   ]
  },
  {
   "cell_type": "markdown",
   "id": "7ed8932c-b918-4624-aa11-ec23e9ce5054",
   "metadata": {},
   "source": [
    "In onze datastory hebben we slechts één dataset gebruikt. We hebben vastgesteld dat hogere kosten van levensonderhoud samengaan met een betere economische welvaart, omdat steden die duurder zijn over het algemeen een sterkere economie hebben. We hebben de kosten van levensonderhoud gebruikt als een manier om de economische welvaart te benaderen, omdat we geen geschikte dataset konden vinden met specifieke economische welvaartsindicatoren. Met meer tijd zouden we graag een tweede dataset willen gebruiken met directere economische indicatoren en deze willen samenvoegen met de dataset die we al hebben gebruikt.\n",
    "\n",
    "Daarnaast zouden we meer variatie in onze datavisualisaties kunnen brengen. Met extra tijd hadden we wellicht uitgebreidere grafieken kunnen maken die ons verhaal nog meer zouden kunnen ondersteunen."
   ]
  }
 ],
 "metadata": {
  "kernelspec": {
   "display_name": "Python 3 (ipykernel)",
   "language": "python",
   "name": "python3"
  },
  "language_info": {
   "codemirror_mode": {
    "name": "ipython",
    "version": 3
   },
   "file_extension": ".py",
   "mimetype": "text/x-python",
   "name": "python",
   "nbconvert_exporter": "python",
   "pygments_lexer": "ipython3",
   "version": "3.10.14"
  }
 },
 "nbformat": 4,
 "nbformat_minor": 5
}