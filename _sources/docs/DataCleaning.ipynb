{
 "cells": [
  {
   "cell_type": "markdown",
   "id": "abe3b74a-921c-44b8-b261-88e0b91aadc1",
   "metadata": {},
   "source": [
    "# Voorbewerking van de Dataset"
   ]
  },
  {
   "cell_type": "markdown",
   "id": "afdc9b06-f408-4fbc-810c-0febb36ef93b",
   "metadata": {},
   "source": [
    "We hebben gekozen voor de dataset 'City Happiness Index' van Kaggle.com. Deze dataset bevat verschillende kenmerken en metingen van steden wereldwijd, gericht op factoren die de totale geluksscore van elke stad kunnen beïnvloeden. \n",
    "\n",
    "[klik hier voor de gebruikte dataset](https://www.kaggle.com/datasets/emirhanai/city-happiness-index-2024?select=train.csv)"
   ]
  },
  {
   "cell_type": "markdown",
   "id": "3177f906-0ddd-4418-ac4f-00a75c9ab6d4",
   "metadata": {},
   "source": [
    "### Data Cleaning"
   ]
  },
  {
   "cell_type": "markdown",
   "id": "44eac6b1-b1bf-431a-aea0-2766676e1b63",
   "metadata": {},
   "source": [
    "Tijdens het uitvoeren van de data cleaning hebben we vastgesteld dat elke stad slechts een enkele meting heeft in de dataset. Dit betekent dat elke stad uniek is en niet meerdere keren voorkomt in de dataset in verschillende jaren of maanden. Om deze reden hebben we de kolommen <strong> 'Month' </strong> en <strong> 'Year' </strong> uit de dataset verwijderd, omdat deze informatie niet relevant is voor onze analyse. Daarnaast hebben we de kolom <strong> 'Traffic_Density' </strong> verwijderd, aangezien we deze variabele niet zullen gebruiken in ons onderzoek.\n",
    "\n",
    "Verder zijn er in deze dataset geen ontbrekende waarden aangetroffen, wat betekent dat de dataset op dit punt onveranderd is gebleven."
   ]
  },
  {
   "cell_type": "markdown",
   "id": "157631b6-4be5-4584-bdc2-73be23a216c4",
   "metadata": {},
   "source": [
    "### Omschrijving van de variabelen"
   ]
  },
  {
   "cell_type": "markdown",
   "id": "d8adca49-fc8e-43ed-a6f1-63263bfe43f9",
   "metadata": {},
   "source": [
    "<strong> Discrete Variabele / Nominale schaal </strong>\n",
    "- City: De naam van de stad waarin de metingen zijn gedaan.\n",
    "\n",
    "<strong> Continue Variabele / Ratio schaal </strong>\n",
    "- Decibel_Level: Het geluidsniveau in de stad, gemeten in decibel.\n",
    "- Green_Space_Area: Het percentage van het stedelijk gebied dat uit groene ruimte bestaat.\n",
    "- Air_Quality_Index: Een index die de kwaliteit van de lucht in de stad aangeeft.\n",
    "- Healthcare_Index: Een index die de kwaliteit van de gezondheidszorg in de stad aangeeft.\n",
    "- Cost_of_Living_Index: Een index die de kosten van levensonderhoud in de stad weergeeft in vergelijking met een referentiestad.\n",
    "\n",
    "<strong> Continue Variabele / Ordinale schaal </strong>\n",
    "- Happiness_Score: De gemiddelde score die het geluk van de inwoners van de stad aangeeft van 1 - 10. (De Happiness Score wordt beschouwd als een ordinale variabele omdat het de rangorde van geluk aangeeft zonder exact meetbare intervalafstanden tussen scores. Hoewel hogere scores een hoger geluksniveau aangeven, is het niet mogelijk om te zeggen dat een score exact twee keer zoveel geluk vertegenwoordigt als een score die de helft ervan is."
   ]
  }
 ],
 "metadata": {
  "kernelspec": {
   "display_name": "Python 3 (ipykernel)",
   "language": "python",
   "name": "python3"
  },
  "language_info": {
   "codemirror_mode": {
    "name": "ipython",
    "version": 3
   },
   "file_extension": ".py",
   "mimetype": "text/x-python",
   "name": "python",
   "nbconvert_exporter": "python",
   "pygments_lexer": "ipython3",
   "version": "3.11.7"
  }
 },
 "nbformat": 4,
 "nbformat_minor": 5
}
