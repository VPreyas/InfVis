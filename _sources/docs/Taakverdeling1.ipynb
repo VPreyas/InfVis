{
 "cells": [
  {
   "cell_type": "markdown",
   "id": "fb2a54b0-f290-4cf9-b208-039627ec47b0",
   "metadata": {},
   "source": [
    "# Taakverdeling"
   ]
  },
  {
   "attachments": {},
   "cell_type": "markdown",
   "id": "47be033c-6032-4a9b-aa9b-1cf8be3ab702",
   "metadata": {},
   "source": [
    "Onze communicatie vond over het algemeen vooral plaats via WhatsApp. Daarnaast zijn we twee keer samengekomen in de werkgroep om te bekijken hoe we ervoor stonden en om een taakverdeling te maken. Bij het maken van de uiteindelijke versie hebben we een keer lang gebeld met alle groepsgenoten om alle problemen die we tegenkwamen te bespreken.\n",
    "\n",
    "Het proposal is uitgewerkt door Nienke, Martijn en Senna. Preyas voegde zich later bij de groep tijdens het maken van de draft, en heeft zich vervolgens gericht op de opmaak van de uiteindelijke versie in Jupyter Book, wat voor de andere groepsleden moeilijk was.\n",
    "\n",
    "Bij het maken van het proposal hebben we een onderwerp gekozen en verschillende datasets gevonden die hierbij aansloten. Bij het maken van de draft hebben we grafieken gemaakt en hier omheen tekst geschreven. Echter, na het mergen en opschonen van de datasets, bleek dat we geen geschikte variabelen hadden voor het tweede perspectief. We hebben toen besloten het onderwerp enigszins aan te passen.\n",
    "\n",
    "Na de ontvangen peer feedback bleek dat het aangepaste onderwerp niet voldoende discussie opwekte en dus niet geschikt was voor de datastory. Daarom hebben we na de peer feedback de perspectieven opnieuw aangepast om wel discussie te stimuleren. Uiteindelijk bleek dat we slechts één dataset hoefden te gebruiken. Deze hebben we opgeschoond en zo zijn we tot een uiteindelijke datastory gekomen."
   ]
  },
  {
   "cell_type": "markdown",
   "id": "00808c0b-e990-4bb6-a789-4d0381819a5d",
   "metadata": {},
   "source": [
    "##### Nienke\n",
    "Nienke heeft het grootste deel van de coördinatie van de groep op zich genomen. Ze heeft alle tekst voor de uiteindelijke versie geschreven. Ook heeft ze de dataset opgeschoond voor de definitieve versie. Daarnaast heeft ze het hoofdonderwerp bedacht en aanzienlijk bijgedragen aan het denkproces rondom de perspectieven."
   ]
  },
  {
   "cell_type": "markdown",
   "id": "504010f1-5f22-468c-9d16-8baf62c37c4d",
   "metadata": {},
   "source": [
    "##### Martijn\n",
    "Martijn heeft zich vooral gericht op het vinden van de juiste datasets en heeft ook bijgedragen aan het bedenken van de verschillende soorten plots. Daarnaast heeft hij Nienke ondersteund in het denkproces en schrijfproces rondom de onderwerpen en perspectieven."
   ]
  },
  {
   "cell_type": "markdown",
   "id": "11535c70-2d9a-4ccd-898c-fe6a6931a49a",
   "metadata": {},
   "source": [
    "##### Senna\n",
    "Senna heeft voornamelijk de meeste plots gemaakt en ze interactief gemaakt. Daarnaast heeft hij geholpen bij het vinden van een geschikte dataset en heeft hij de dataset voor de draft schoongemaakt en samengevoegd."
   ]
  },
  {
   "cell_type": "markdown",
   "id": "87fc0230-8b9c-4c0d-b75a-979f69c4c503",
   "metadata": {},
   "source": [
    "##### Preyas\n",
    "Preyas heeft voornamelijk gezorgd voor de afwerking van het project. Hij heeft alles samengebracht in Jupyter Book en ervoor gezorgd dat het eindproduct er goed uitziet."
   ]
  }
 ],
 "metadata": {
  "kernelspec": {
   "display_name": "Python 3 (ipykernel)",
   "language": "python",
   "name": "python3"
  },
  "language_info": {
   "codemirror_mode": {
    "name": "ipython",
    "version": 3
   },
   "file_extension": ".py",
   "mimetype": "text/x-python",
   "name": "python",
   "nbconvert_exporter": "python",
   "pygments_lexer": "ipython3",
   "version": "3.11.7"
  }
 },
 "nbformat": 4,
 "nbformat_minor": 5
}
