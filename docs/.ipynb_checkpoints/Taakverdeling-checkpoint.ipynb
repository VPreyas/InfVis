{
 "cells": [
  {
   "cell_type": "markdown",
   "id": "fb2a54b0-f290-4cf9-b208-039627ec47b0",
   "metadata": {},
   "source": [
    "# Taakverdeling"
   ]
  },
  {
   "cell_type": "code",
   "execution_count": 4,
   "id": "fe0b4729-631d-47af-8beb-1e6257c5e277",
   "metadata": {},
   "outputs": [],
   "source": [
    "### maakt martijn"
   ]
  },
  {
   "cell_type": "markdown",
   "id": "00808c0b-e990-4bb6-a789-4d0381819a5d",
   "metadata": {},
   "source": [
    "##### Nienke"
   ]
  },
  {
   "cell_type": "markdown",
   "id": "504010f1-5f22-468c-9d16-8baf62c37c4d",
   "metadata": {},
   "source": [
    "##### Martijn"
   ]
  },
  {
   "cell_type": "markdown",
   "id": "11535c70-2d9a-4ccd-898c-fe6a6931a49a",
   "metadata": {},
   "source": [
    "##### Senna"
   ]
  },
  {
   "cell_type": "markdown",
   "id": "87fc0230-8b9c-4c0d-b75a-979f69c4c503",
   "metadata": {},
   "source": [
    "##### Preyas"
   ]
  }
 ],
 "metadata": {
  "kernelspec": {
   "display_name": "Python 3 (ipykernel)",
   "language": "python",
   "name": "python3"
  },
  "language_info": {
   "codemirror_mode": {
    "name": "ipython",
    "version": 3
   },
   "file_extension": ".py",
   "mimetype": "text/x-python",
   "name": "python",
   "nbconvert_exporter": "python",
   "pygments_lexer": "ipython3",
   "version": "3.11.7"
  }
 },
 "nbformat": 4,
 "nbformat_minor": 5
}
